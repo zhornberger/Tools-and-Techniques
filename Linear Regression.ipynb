{
 "cells": [
  {
   "cell_type": "markdown",
   "metadata": {},
   "source": [
    "# Linear Regression\n",
    "\n",
    "This notebook introduces the concept of linear regression analysis, provides a function for conducting linear regression analysis, and provides an example.  Throughout this notebook, we will use the Fish Market dataset located on Kaggle to demonstrate many of these topics."
   ]
  },
  {
   "cell_type": "code",
   "execution_count": 1,
   "metadata": {},
   "outputs": [
    {
     "data": {
      "text/html": [
       "<div>\n",
       "<style scoped>\n",
       "    .dataframe tbody tr th:only-of-type {\n",
       "        vertical-align: middle;\n",
       "    }\n",
       "\n",
       "    .dataframe tbody tr th {\n",
       "        vertical-align: top;\n",
       "    }\n",
       "\n",
       "    .dataframe thead th {\n",
       "        text-align: right;\n",
       "    }\n",
       "</style>\n",
       "<table border=\"1\" class=\"dataframe\">\n",
       "  <thead>\n",
       "    <tr style=\"text-align: right;\">\n",
       "      <th></th>\n",
       "      <th>Species</th>\n",
       "      <th>Weight</th>\n",
       "      <th>Length1</th>\n",
       "      <th>Length2</th>\n",
       "      <th>Length3</th>\n",
       "      <th>Height</th>\n",
       "      <th>Width</th>\n",
       "    </tr>\n",
       "  </thead>\n",
       "  <tbody>\n",
       "    <tr>\n",
       "      <th>0</th>\n",
       "      <td>Bream</td>\n",
       "      <td>242.0</td>\n",
       "      <td>23.2</td>\n",
       "      <td>25.4</td>\n",
       "      <td>30.0</td>\n",
       "      <td>11.5200</td>\n",
       "      <td>4.0200</td>\n",
       "    </tr>\n",
       "    <tr>\n",
       "      <th>1</th>\n",
       "      <td>Bream</td>\n",
       "      <td>290.0</td>\n",
       "      <td>24.0</td>\n",
       "      <td>26.3</td>\n",
       "      <td>31.2</td>\n",
       "      <td>12.4800</td>\n",
       "      <td>4.3056</td>\n",
       "    </tr>\n",
       "    <tr>\n",
       "      <th>2</th>\n",
       "      <td>Bream</td>\n",
       "      <td>340.0</td>\n",
       "      <td>23.9</td>\n",
       "      <td>26.5</td>\n",
       "      <td>31.1</td>\n",
       "      <td>12.3778</td>\n",
       "      <td>4.6961</td>\n",
       "    </tr>\n",
       "    <tr>\n",
       "      <th>3</th>\n",
       "      <td>Bream</td>\n",
       "      <td>363.0</td>\n",
       "      <td>26.3</td>\n",
       "      <td>29.0</td>\n",
       "      <td>33.5</td>\n",
       "      <td>12.7300</td>\n",
       "      <td>4.4555</td>\n",
       "    </tr>\n",
       "    <tr>\n",
       "      <th>4</th>\n",
       "      <td>Bream</td>\n",
       "      <td>430.0</td>\n",
       "      <td>26.5</td>\n",
       "      <td>29.0</td>\n",
       "      <td>34.0</td>\n",
       "      <td>12.4440</td>\n",
       "      <td>5.1340</td>\n",
       "    </tr>\n",
       "  </tbody>\n",
       "</table>\n",
       "</div>"
      ],
      "text/plain": [
       "  Species  Weight  Length1  Length2  Length3   Height   Width\n",
       "0   Bream   242.0     23.2     25.4     30.0  11.5200  4.0200\n",
       "1   Bream   290.0     24.0     26.3     31.2  12.4800  4.3056\n",
       "2   Bream   340.0     23.9     26.5     31.1  12.3778  4.6961\n",
       "3   Bream   363.0     26.3     29.0     33.5  12.7300  4.4555\n",
       "4   Bream   430.0     26.5     29.0     34.0  12.4440  5.1340"
      ]
     },
     "execution_count": 1,
     "metadata": {},
     "output_type": "execute_result"
    }
   ],
   "source": [
    "import pandas as pd                                                             # Import pandas\n",
    "\n",
    "df = pd.read_csv('C:/Users/hornb/Desktop/Fish.csv')                             # Read in csv file Fish.csv\n",
    "df.head()                                                                       # Display top 5 rows"
   ]
  },
  {
   "cell_type": "markdown",
   "metadata": {},
   "source": [
    "## Introduction\n",
    "\n",
    "Central to the field of data analytics is the concept of examining and quantifying the relationship between variables.  Linear regression analysis offers a useful starting point considering whether there exists a linear relationship between variables under study.  That is, does an increase in one variable result in a proportional change in another variable?"
   ]
  },
  {
   "cell_type": "code",
   "execution_count": 2,
   "metadata": {},
   "outputs": [
    {
     "data": {
      "text/plain": [
       "<Figure size 640x480 with 1 Axes>"
      ]
     },
     "metadata": {},
     "output_type": "display_data"
    }
   ],
   "source": [
    "import matplotlib.pyplot as plt                                                 # Import pyplot package\n",
    "\n",
    "plt.scatter(df['Length1'], df['Weight'])                                        # Generate scatter plot\n",
    "plt.ylabel('Fish Weight (g)')                                                   # Label y-axis\n",
    "plt.xlabel('Fish Vertical Length (cm)')                                         # Label x-axis\n",
    "plt.show()                                                                      # Display plot"
   ]
  },
  {
   "cell_type": "markdown",
   "metadata": {},
   "source": [
    "For instance, the plot above examines the relationship between the weight of a fish and the fish's length.  By looking at the plot, can we tell whether a change in one variable corresponds to a proporational change to another variable?  And taking this thought a step further, if there is a relationship between these variables and we know the value of one variable, can we use that to predict the value of the other variable?  The field of multivariate analysis allows us to tackle this idea; for this notebook, we will focus specifically on whether variables have linear relationships via linear regression analysis.\n",
    "\n",
    "To begin, there are some key ideas and terms that need to be addressed:\n",
    "- <b>Correlation:</b> The strength of the linear relationship between two variables.  A coorelation can be thought of as a score to indicate the degree to which a change in one variable corresponds to a change in the other.  Correlation, specifically the <i>Pearson's Correlation Coefficient</i> spans between the values of -1 and 1.  Correlations close to -1 or 1 represent strong relationships between the variables, whereas correlations close to 0 represent weak relationships.  Correlations that are positive imply that an increase in one variable corresponds to an increase in the other variable; the relationship between studying for a test and the resulting test score is likely to be positively correlated.  Conversely, correlations that are negative imply that an increase in one variable corresponds to a decrease in the other variable; the relationship between hours spent exercises and body weight might be expected to have a negative correlation.\n",
    "- <b>Correlation does not imply causation.</b>  This is a central tenant to any conversation regarding correlation and regressiona analysis.  The fact that two variables appear to have a relationship to one another does not mean that these two variables are directly related or that one is causing the other to change.  For instance, there is likely to positive correlation between ice cream sales and deaths by drowning.  This would not suggest that ice cream causes people to drown, or that drowning deaths cause people to eat more ice cream.  In this instance, they both happen to occur more often during times of warmer weather.\n",
    "- <b>Independent Variable:</b> The variables that we are using as predictors.  In linear regression analysis, we will identify variables that are correlated and then attempt to utilize that relationship to predict the value of one variable when we know the value(s) of the other(s).  When plotting a relationship in this manner, it is customary to plot the independent variable along the x-axis.\n",
    "- <b>Dependent Variable:</b> The variable that we are attempting to predict.  When plotting a relationship in this manner, it is customary to plot the dependent variable along the y-axis.\n",
    "- <b>Correlation of Determination:</b> A measure indicating the proporation of the variation in the dependent variable that is explained by the independent variables.  This value is often denoted as $R^2$ and is on a scale between 0 to 1, presenting the proporation of the variation explained by the regression model.\n",
    "\n",
    "Now that these key terms are discussed, let's build upon these ideas using the Fish.csv dataset.  First, we will consider the 6 numerical variables in our dataset and examine the correlation between these values."
   ]
  },
  {
   "cell_type": "code",
   "execution_count": 3,
   "metadata": {},
   "outputs": [
    {
     "data": {
      "text/html": [
       "<div>\n",
       "<style scoped>\n",
       "    .dataframe tbody tr th:only-of-type {\n",
       "        vertical-align: middle;\n",
       "    }\n",
       "\n",
       "    .dataframe tbody tr th {\n",
       "        vertical-align: top;\n",
       "    }\n",
       "\n",
       "    .dataframe thead th {\n",
       "        text-align: right;\n",
       "    }\n",
       "</style>\n",
       "<table border=\"1\" class=\"dataframe\">\n",
       "  <thead>\n",
       "    <tr style=\"text-align: right;\">\n",
       "      <th></th>\n",
       "      <th>Weight</th>\n",
       "      <th>Length1</th>\n",
       "      <th>Length2</th>\n",
       "      <th>Length3</th>\n",
       "      <th>Height</th>\n",
       "      <th>Width</th>\n",
       "    </tr>\n",
       "  </thead>\n",
       "  <tbody>\n",
       "    <tr>\n",
       "      <th>Weight</th>\n",
       "      <td>1.000000</td>\n",
       "      <td>0.915712</td>\n",
       "      <td>0.918618</td>\n",
       "      <td>0.923044</td>\n",
       "      <td>0.724345</td>\n",
       "      <td>0.886507</td>\n",
       "    </tr>\n",
       "    <tr>\n",
       "      <th>Length1</th>\n",
       "      <td>0.915712</td>\n",
       "      <td>1.000000</td>\n",
       "      <td>0.999517</td>\n",
       "      <td>0.992031</td>\n",
       "      <td>0.625378</td>\n",
       "      <td>0.867050</td>\n",
       "    </tr>\n",
       "    <tr>\n",
       "      <th>Length2</th>\n",
       "      <td>0.918618</td>\n",
       "      <td>0.999517</td>\n",
       "      <td>1.000000</td>\n",
       "      <td>0.994103</td>\n",
       "      <td>0.640441</td>\n",
       "      <td>0.873547</td>\n",
       "    </tr>\n",
       "    <tr>\n",
       "      <th>Length3</th>\n",
       "      <td>0.923044</td>\n",
       "      <td>0.992031</td>\n",
       "      <td>0.994103</td>\n",
       "      <td>1.000000</td>\n",
       "      <td>0.703409</td>\n",
       "      <td>0.878520</td>\n",
       "    </tr>\n",
       "    <tr>\n",
       "      <th>Height</th>\n",
       "      <td>0.724345</td>\n",
       "      <td>0.625378</td>\n",
       "      <td>0.640441</td>\n",
       "      <td>0.703409</td>\n",
       "      <td>1.000000</td>\n",
       "      <td>0.792881</td>\n",
       "    </tr>\n",
       "    <tr>\n",
       "      <th>Width</th>\n",
       "      <td>0.886507</td>\n",
       "      <td>0.867050</td>\n",
       "      <td>0.873547</td>\n",
       "      <td>0.878520</td>\n",
       "      <td>0.792881</td>\n",
       "      <td>1.000000</td>\n",
       "    </tr>\n",
       "  </tbody>\n",
       "</table>\n",
       "</div>"
      ],
      "text/plain": [
       "           Weight   Length1   Length2   Length3    Height     Width\n",
       "Weight   1.000000  0.915712  0.918618  0.923044  0.724345  0.886507\n",
       "Length1  0.915712  1.000000  0.999517  0.992031  0.625378  0.867050\n",
       "Length2  0.918618  0.999517  1.000000  0.994103  0.640441  0.873547\n",
       "Length3  0.923044  0.992031  0.994103  1.000000  0.703409  0.878520\n",
       "Height   0.724345  0.625378  0.640441  0.703409  1.000000  0.792881\n",
       "Width    0.886507  0.867050  0.873547  0.878520  0.792881  1.000000"
      ]
     },
     "metadata": {},
     "output_type": "display_data"
    }
   ],
   "source": [
    "num_df = df.drop(['Species'], axis = 1)                                         # Create dataframe; drop categorical value\n",
    "corr_matrix = num_df.corr()                                                     # Generate correlation matrix\n",
    "display(corr_matrix)                                                            # Display correlation matrix"
   ]
  },
  {
   "cell_type": "markdown",
   "metadata": {},
   "source": [
    "In the above correlation matrix, we can see the degree to which each of these variables are correlated to one another.  To interpret this matrix, look at the value where the two variables intersect.  For example, the correlation between Weight and Length1 is 0.9157.  Note that a correlation matrix will always have the value of 1 going down the diagonal (since any value is perfectly related to itself) and that the matrix is symmetrical across the diagonal (as the relationship between Weight & Length1 is the same as the relationship between Length1 & Weight).\n",
    "\n",
    "Having identified the the correlations between all of the variables, it is worth noting that every variable appears to be positively correlated to every other variable, and that these relationship appear to be strong.  This is important in more later considerations of linear regression analysis, such as when considering the effects of <b>multicollinearity</b>.\n",
    "\n",
    "For now, let's consider this scenario: We have measurement data on the fish and we want to know how much of a fish's weight is caused by it's dimensions.  To do this, let's start by constructing a simple linear regression model."
   ]
  },
  {
   "cell_type": "code",
   "execution_count": 4,
   "metadata": {},
   "outputs": [
    {
     "data": {
      "image/png": "[encoded data removed]",
      "text/plain": [
       "<Figure size 432x288 with 1 Axes>"
      ]
     },
     "metadata": {
      "needs_background": "light"
     },
     "output_type": "display_data"
    },
    {
     "name": "stdout",
     "output_type": "stream",
     "text": [
      "The Coefficient of Correlation for this model is 0.839.\n"
     ]
    }
   ],
   "source": [
    "from sklearn.linear_model import LinearRegression                               # Import Linear Regression package\n",
    "\n",
    "x = df['Length1'].values.reshape(-1, 1)                                         # Define independent variable\n",
    "y = df['Weight']                                                                # Define dependent variable\n",
    "\n",
    "model = LinearRegression()                                                      # Initialize model\n",
    "model.fit(x, y)                                                                 # Generate model\n",
    "\n",
    "plt.scatter(x, y)                                                               # Generate scatter plot\n",
    "plt.plot(x, model.predict(x), c = 'black')                                      # Generate regression line\n",
    "plt.ylabel('Fish Weight (g)')                                                   # Label y-axis\n",
    "plt.xlabel('Fish Vertical Length (cm)')                                         # Label x-axis\n",
    "plt.show()                                                                      # Display plot\n",
    "\n",
    "print(f'The Coefficient of Correlation for this model is {model.score(x, y).round(3)}.')    # Print R^2 value for model"
   ]
  },
  {
   "cell_type": "markdown",
   "metadata": {},
   "source": [
    "In this simple linear regression model, we find that differences in the vertical length of fish in our dataset account for 83.9% of the variation observed in the fish weights.  Since we are only comparing two variables, our model is two-dimensional and we can easily illustrate this relationship on the plot above.\n",
    "\n",
    "In the above plot, each blue dot represents a fish in the dataset.  The black line running through the data points is the <i>regression line</i> and shows the estimated linear relationship between the fish weights and vertical lengths.  The vertical distance between each datapoint and the line represents error in the model, and the line is drawn in such a way that the total error above the regression line is equal to the total error below the regression line.\n",
    "\n",
    "Since we have more measurement data, we can add complexity to our model by constructing a multiple linear regression model."
   ]
  },
  {
   "cell_type": "code",
   "execution_count": 5,
   "metadata": {},
   "outputs": [
    {
     "name": "stdout",
     "output_type": "stream",
     "text": [
      "The Coefficient of Correlation for this model is 0.885.\n"
     ]
    }
   ],
   "source": [
    "x = df[['Length1', 'Length2', 'Length3', 'Height', 'Width']]                    # Define independent variables\n",
    "y = df['Weight']                                                                # Define dependent variable\n",
    "\n",
    "model = LinearRegression()                                                      # Initialize model\n",
    "model.fit(x, y)                                                                 # Generate model\n",
    "\n",
    "print(f'The Coefficient of Correlation for this model is {model.score(x, y).round(3)}.')    # Print R^2 value for model"
   ]
  },
  {
   "cell_type": "markdown",
   "metadata": {},
   "source": [
    "In the above multiple linear regression model, we added every every size variable into the model and find that the model now accounts for 88.5% of the variation observed in the fish weights.  We should be careful however, because the LinearRegression() function does not provide us with all the information that may be useful when evaluating the effectiveness of a multiple linear regression model.  To that end, let's build the same model but utilize the StatsModels package instead."
   ]
  },
  {
   "cell_type": "code",
   "execution_count": 6,
   "metadata": {},
   "outputs": [
    {
     "data": {
      "text/html": [
       "<table class=\"simpletable\">\n",
       "<caption>OLS Regression Results</caption>\n",
       "<tr>\n",
       "  <th>Dep. Variable:</th>         <td>Weight</td>      <th>  R-squared:         </th> <td>   0.885</td>\n",
       "</tr>\n",
       "<tr>\n",
       "  <th>Model:</th>                   <td>OLS</td>       <th>  Adj. R-squared:    </th> <td>   0.882</td>\n",
       "</tr>\n",
       "<tr>\n",
       "  <th>Method:</th>             <td>Least Squares</td>  <th>  F-statistic:       </th> <td>   236.2</td>\n",
       "</tr>\n",
       "<tr>\n",
       "  <th>Date:</th>             <td>Thu, 18 Mar 2021</td> <th>  Prob (F-statistic):</th> <td>4.95e-70</td>\n",
       "</tr>\n",
       "<tr>\n",
       "  <th>Time:</th>                 <td>21:59:01</td>     <th>  Log-Likelihood:    </th> <td> -987.96</td>\n",
       "</tr>\n",
       "<tr>\n",
       "  <th>No. Observations:</th>      <td>   159</td>      <th>  AIC:               </th> <td>   1988.</td>\n",
       "</tr>\n",
       "<tr>\n",
       "  <th>Df Residuals:</th>          <td>   153</td>      <th>  BIC:               </th> <td>   2006.</td>\n",
       "</tr>\n",
       "<tr>\n",
       "  <th>Df Model:</th>              <td>     5</td>      <th>                     </th>     <td> </td>   \n",
       "</tr>\n",
       "<tr>\n",
       "  <th>Covariance Type:</th>      <td>nonrobust</td>    <th>                     </th>     <td> </td>   \n",
       "</tr>\n",
       "</table>\n",
       "<table class=\"simpletable\">\n",
       "<tr>\n",
       "     <td></td>        <th>coef</th>     <th>std err</th>      <th>t</th>      <th>P>|t|</th>  <th>[0.025</th>    <th>0.975]</th>  \n",
       "</tr>\n",
       "<tr>\n",
       "  <th>const</th>   <td> -499.5870</td> <td>   29.572</td> <td>  -16.894</td> <td> 0.000</td> <td> -558.010</td> <td> -441.164</td>\n",
       "</tr>\n",
       "<tr>\n",
       "  <th>Length1</th> <td>   62.3552</td> <td>   40.209</td> <td>    1.551</td> <td> 0.123</td> <td>  -17.081</td> <td>  141.791</td>\n",
       "</tr>\n",
       "<tr>\n",
       "  <th>Length2</th> <td>   -6.5268</td> <td>   41.759</td> <td>   -0.156</td> <td> 0.876</td> <td>  -89.025</td> <td>   75.971</td>\n",
       "</tr>\n",
       "<tr>\n",
       "  <th>Length3</th> <td>  -29.0262</td> <td>   17.353</td> <td>   -1.673</td> <td> 0.096</td> <td>  -63.309</td> <td>    5.256</td>\n",
       "</tr>\n",
       "<tr>\n",
       "  <th>Height</th>  <td>   28.2974</td> <td>    8.729</td> <td>    3.242</td> <td> 0.001</td> <td>   11.052</td> <td>   45.543</td>\n",
       "</tr>\n",
       "<tr>\n",
       "  <th>Width</th>   <td>   22.4733</td> <td>   20.372</td> <td>    1.103</td> <td> 0.272</td> <td>  -17.773</td> <td>   62.720</td>\n",
       "</tr>\n",
       "</table>\n",
       "<table class=\"simpletable\">\n",
       "<tr>\n",
       "  <th>Omnibus:</th>       <td>20.989</td> <th>  Durbin-Watson:     </th> <td>   0.424</td>\n",
       "</tr>\n",
       "<tr>\n",
       "  <th>Prob(Omnibus):</th> <td> 0.000</td> <th>  Jarque-Bera (JB):  </th> <td>  27.307</td>\n",
       "</tr>\n",
       "<tr>\n",
       "  <th>Skew:</th>          <td> 0.792</td> <th>  Prob(JB):          </th> <td>1.18e-06</td>\n",
       "</tr>\n",
       "<tr>\n",
       "  <th>Kurtosis:</th>      <td> 4.269</td> <th>  Cond. No.          </th> <td>    315.</td>\n",
       "</tr>\n",
       "</table><br/><br/>Notes:<br/>[1] Standard Errors assume that the covariance matrix of the errors is correctly specified."
      ],
      "text/plain": [
       "<class 'statsmodels.iolib.summary.Summary'>\n",
       "\"\"\"\n",
       "                            OLS Regression Results                            \n",
       "==============================================================================\n",
       "Dep. Variable:                 Weight   R-squared:                       0.885\n",
       "Model:                            OLS   Adj. R-squared:                  0.882\n",
       "Method:                 Least Squares   F-statistic:                     236.2\n",
       "Date:                Thu, 18 Mar 2021   Prob (F-statistic):           4.95e-70\n",
       "Time:                        21:59:01   Log-Likelihood:                -987.96\n",
       "No. Observations:                 159   AIC:                             1988.\n",
       "Df Residuals:                     153   BIC:                             2006.\n",
       "Df Model:                           5                                         \n",
       "Covariance Type:            nonrobust                                         \n",
       "==============================================================================\n",
       "                 coef    std err          t      P>|t|      [0.025      0.975]\n",
       "------------------------------------------------------------------------------\n",
       "const       -499.5870     29.572    -16.894      0.000    -558.010    -441.164\n",
       "Length1       62.3552     40.209      1.551      0.123     -17.081     141.791\n",
       "Length2       -6.5268     41.759     -0.156      0.876     -89.025      75.971\n",
       "Length3      -29.0262     17.353     -1.673      0.096     -63.309       5.256\n",
       "Height        28.2974      8.729      3.242      0.001      11.052      45.543\n",
       "Width         22.4733     20.372      1.103      0.272     -17.773      62.720\n",
       "==============================================================================\n",
       "Omnibus:                       20.989   Durbin-Watson:                   0.424\n",
       "Prob(Omnibus):                  0.000   Jarque-Bera (JB):               27.307\n",
       "Skew:                           0.792   Prob(JB):                     1.18e-06\n",
       "Kurtosis:                       4.269   Cond. No.                         315.\n",
       "==============================================================================\n",
       "\n",
       "Notes:\n",
       "[1] Standard Errors assume that the covariance matrix of the errors is correctly specified.\n",
       "\"\"\""
      ]
     },
     "execution_count": 6,
     "metadata": {},
     "output_type": "execute_result"
    }
   ],
   "source": [
    "import statsmodels.api as sm                                                    # Import Linear Regression package\n",
    "\n",
    "x = sm.add_constant(df[['Length1', 'Length2', 'Length3', 'Height', 'Width']])   # Define independent variables, add col of 1 for intercept variable\n",
    "y = df['Weight']                                                                # Define dependent variable\n",
    "\n",
    "model = sm.OLS(y, x)                                                            # Initialize model; note dependent before independent\n",
    "results = model.fit()                                                           # Generate model\n",
    "\n",
    "results.summary()                                                               # Output report"
   ]
  },
  {
   "cell_type": "markdown",
   "metadata": {},
   "source": [
    "Looking at the model's summary report, we still find that the $R^2$ value is 0.885, but now we have information into the significance of the model and the performance of each of the variables.  In particular, we can utilize the $t$ and $P > |t|$ values to identify variables that are not significantly contributing to the explaination of the dependent variable.  Using this information, we can incrementally remove variables from the model that are not statistically significant in describe variation in our dependent variable."
   ]
  },
  {
   "cell_type": "code",
   "execution_count": 7,
   "metadata": {},
   "outputs": [
    {
     "data": {
      "text/html": [
       "<table class=\"simpletable\">\n",
       "<caption>OLS Regression Results</caption>\n",
       "<tr>\n",
       "  <th>Dep. Variable:</th>         <td>Weight</td>      <th>  R-squared:         </th> <td>   0.876</td>\n",
       "</tr>\n",
       "<tr>\n",
       "  <th>Model:</th>                   <td>OLS</td>       <th>  Adj. R-squared:    </th> <td>   0.875</td>\n",
       "</tr>\n",
       "<tr>\n",
       "  <th>Method:</th>             <td>Least Squares</td>  <th>  F-statistic:       </th> <td>   552.6</td>\n",
       "</tr>\n",
       "<tr>\n",
       "  <th>Date:</th>             <td>Thu, 18 Mar 2021</td> <th>  Prob (F-statistic):</th> <td>1.59e-71</td>\n",
       "</tr>\n",
       "<tr>\n",
       "  <th>Time:</th>                 <td>21:59:04</td>     <th>  Log-Likelihood:    </th> <td> -993.95</td>\n",
       "</tr>\n",
       "<tr>\n",
       "  <th>No. Observations:</th>      <td>   159</td>      <th>  AIC:               </th> <td>   1994.</td>\n",
       "</tr>\n",
       "<tr>\n",
       "  <th>Df Residuals:</th>          <td>   156</td>      <th>  BIC:               </th> <td>   2003.</td>\n",
       "</tr>\n",
       "<tr>\n",
       "  <th>Df Model:</th>              <td>     2</td>      <th>                     </th>     <td> </td>   \n",
       "</tr>\n",
       "<tr>\n",
       "  <th>Covariance Type:</th>      <td>nonrobust</td>    <th>                     </th>     <td> </td>   \n",
       "</tr>\n",
       "</table>\n",
       "<table class=\"simpletable\">\n",
       "<tr>\n",
       "     <td></td>        <th>coef</th>     <th>std err</th>      <th>t</th>      <th>P>|t|</th>  <th>[0.025</th>    <th>0.975]</th>  \n",
       "</tr>\n",
       "<tr>\n",
       "  <th>const</th>   <td> -502.5893</td> <td>   28.903</td> <td>  -17.389</td> <td> 0.000</td> <td> -559.681</td> <td> -445.498</td>\n",
       "</tr>\n",
       "<tr>\n",
       "  <th>Length1</th> <td>   27.2135</td> <td>    1.292</td> <td>   21.059</td> <td> 0.000</td> <td>   24.661</td> <td>   29.766</td>\n",
       "</tr>\n",
       "<tr>\n",
       "  <th>Height</th>  <td>   20.8048</td> <td>    3.014</td> <td>    6.903</td> <td> 0.000</td> <td>   14.852</td> <td>   26.758</td>\n",
       "</tr>\n",
       "</table>\n",
       "<table class=\"simpletable\">\n",
       "<tr>\n",
       "  <th>Omnibus:</th>       <td> 5.122</td> <th>  Durbin-Watson:     </th> <td>   0.441</td>\n",
       "</tr>\n",
       "<tr>\n",
       "  <th>Prob(Omnibus):</th> <td> 0.077</td> <th>  Jarque-Bera (JB):  </th> <td>   4.649</td>\n",
       "</tr>\n",
       "<tr>\n",
       "  <th>Skew:</th>          <td> 0.381</td> <th>  Prob(JB):          </th> <td>  0.0979</td>\n",
       "</tr>\n",
       "<tr>\n",
       "  <th>Kurtosis:</th>      <td> 3.349</td> <th>  Cond. No.          </th> <td>    85.3</td>\n",
       "</tr>\n",
       "</table><br/><br/>Notes:<br/>[1] Standard Errors assume that the covariance matrix of the errors is correctly specified."
      ],
      "text/plain": [
       "<class 'statsmodels.iolib.summary.Summary'>\n",
       "\"\"\"\n",
       "                            OLS Regression Results                            \n",
       "==============================================================================\n",
       "Dep. Variable:                 Weight   R-squared:                       0.876\n",
       "Model:                            OLS   Adj. R-squared:                  0.875\n",
       "Method:                 Least Squares   F-statistic:                     552.6\n",
       "Date:                Thu, 18 Mar 2021   Prob (F-statistic):           1.59e-71\n",
       "Time:                        21:59:04   Log-Likelihood:                -993.95\n",
       "No. Observations:                 159   AIC:                             1994.\n",
       "Df Residuals:                     156   BIC:                             2003.\n",
       "Df Model:                           2                                         \n",
       "Covariance Type:            nonrobust                                         \n",
       "==============================================================================\n",
       "                 coef    std err          t      P>|t|      [0.025      0.975]\n",
       "------------------------------------------------------------------------------\n",
       "const       -502.5893     28.903    -17.389      0.000    -559.681    -445.498\n",
       "Length1       27.2135      1.292     21.059      0.000      24.661      29.766\n",
       "Height        20.8048      3.014      6.903      0.000      14.852      26.758\n",
       "==============================================================================\n",
       "Omnibus:                        5.122   Durbin-Watson:                   0.441\n",
       "Prob(Omnibus):                  0.077   Jarque-Bera (JB):                4.649\n",
       "Skew:                           0.381   Prob(JB):                       0.0979\n",
       "Kurtosis:                       3.349   Cond. No.                         85.3\n",
       "==============================================================================\n",
       "\n",
       "Notes:\n",
       "[1] Standard Errors assume that the covariance matrix of the errors is correctly specified.\n",
       "\"\"\""
      ]
     },
     "execution_count": 7,
     "metadata": {},
     "output_type": "execute_result"
    }
   ],
   "source": [
    "import statsmodels.api as sm                                                    # Import Linear Regression package\n",
    "\n",
    "x = sm.add_constant(df[['Length1', 'Height']])                                  # Define independent variables, add col of 1 for intercept variable\n",
    "y = df['Weight']                                                                # Define dependent variable\n",
    "\n",
    "model = sm.OLS(y, x)                                                            # Initialize model; note dependent before independent\n",
    "results = model.fit()                                                           # Generate model\n",
    "\n",
    "results.summary()                                                               # Output report"
   ]
  },
  {
   "cell_type": "markdown",
   "metadata": {},
   "source": [
    "The final linear regression model is $Y_{weight} = -502.589 + 27.214X_{length} + 20.805X_{height}$ and accounts for 87.6% of the variation in fish weights observed in the market.  To improve upon this model, we can astutely note that out dataset also includes the types of fish and could attempt to build linear regression models for each fish.  For example, by looking at only the Bream fish, we find that an even stronger model can be constructed using only the variable of height."
   ]
  },
  {
   "cell_type": "code",
   "execution_count": 8,
   "metadata": {},
   "outputs": [
    {
     "data": {
      "image/png": "[encoded data removed]",
      "text/plain": [
       "<Figure size 432x288 with 1 Axes>"
      ]
     },
     "metadata": {
      "needs_background": "light"
     },
     "output_type": "display_data"
    },
    {
     "name": "stdout",
     "output_type": "stream",
     "text": [
      "The Coefficient of Correlation for this model is 0.93.\n"
     ]
    }
   ],
   "source": [
    "br_df = df[df['Species'] == 'Bream']                                            # Subset dataframe to only Bream fish\n",
    "x = br_df['Height'].values.reshape(-1, 1)                                       # Define independent variable\n",
    "y = br_df['Weight']                                                             # Define dependent variable\n",
    "\n",
    "model = LinearRegression()                                                      # Initialize model\n",
    "model.fit(x, y)                                                                 # Generate model\n",
    "\n",
    "plt.scatter(x, y)                                                               # Generate scatter plot\n",
    "plt.plot(x, model.predict(x), c = 'black')                                      # Generate regression line\n",
    "plt.ylabel('Fish Weight (g)')                                                   # Label y-axis\n",
    "plt.xlabel('Fish Height (cm)')                                                  # Label x-axis\n",
    "plt.show()                                                                      # Display plot\n",
    "\n",
    "print(f'The Coefficient of Correlation for this model is {model.score(x, y).round(3)}.')    # Print R^2 value for model"
   ]
  }
 ],
 "metadata": {
  "kernelspec": {
   "display_name": "Python 3",
   "language": "python",
   "name": "python3"
  },
  "language_info": {
   "codemirror_mode": {
    "name": "ipython",
    "version": 3
   },
   "file_extension": ".py",
   "mimetype": "text/x-python",
   "name": "python",
   "nbconvert_exporter": "python",
   "pygments_lexer": "ipython3",
   "version": "3.7.1"
  }
 },
 "nbformat": 4,
 "nbformat_minor": 2
}
